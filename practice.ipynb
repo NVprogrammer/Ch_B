{
 "cells": [
  {
   "cell_type": "code",
   "execution_count": 30,
   "metadata": {},
   "outputs": [],
   "source": [
    "import re, urllib3\n",
    "from IPython.display import Image\n",
    "url = \"https://scikit-learn.org/stable/tutorial/statistical_inference/supervised_learning.html\"\n",
    "http = urllib3.PoolManager()\n",
    "content = http.request('GET', url)\n",
    "imgUrls = re.findall('img .*?src=\"(.*?)\"', content.data.decode('utf-8'))\n",
    "\n"
   ]
  },
  {
   "cell_type": "code",
   "execution_count": 31,
   "metadata": {},
   "outputs": [
    {
     "data": {
      "text/plain": [
       "['../../_images/sphx_glr_plot_iris_dataset_001.png',\n",
       " '../../_images/sphx_glr_plot_classification_001.png',\n",
       " '../../_images/sphx_glr_plot_ols_001.png',\n",
       " '../../_images/sphx_glr_plot_ols_ridge_variance_001.png',\n",
       " '../../_images/sphx_glr_plot_ols_ridge_variance_002.png',\n",
       " '../../_images/sphx_glr_plot_ols_3d_001.png',\n",
       " '../../_images/sphx_glr_plot_ols_3d_003.png',\n",
       " '../../_images/sphx_glr_plot_ols_3d_002.png',\n",
       " '../../_images/sphx_glr_plot_logistic_001.png',\n",
       " '../../_images/sphx_glr_plot_iris_logistic_001.png',\n",
       " '../../_images/sphx_glr_plot_svm_margin_001.png',\n",
       " '../../_images/sphx_glr_plot_svm_margin_002.png',\n",
       " '../../_images/sphx_glr_plot_svm_kernels_001.png',\n",
       " '../../_images/sphx_glr_plot_svm_kernels_002.png',\n",
       " '../../_images/sphx_glr_plot_svm_kernels_003.png',\n",
       " '../../_images/sphx_glr_plot_iris_dataset_001.png']"
      ]
     },
     "execution_count": 31,
     "metadata": {},
     "output_type": "execute_result"
    }
   ],
   "source": [
    "imgUrls"
   ]
  },
  {
   "cell_type": "code",
   "execution_count": 46,
   "metadata": {},
   "outputs": [
    {
     "name": "stdout",
     "output_type": "stream",
     "text": [
      "https://scikit-learn.org/stable/_images/sphx_glr_plot_iris_dataset_001.png\n",
      "https://scikit-learn.org/stable/_images/sphx_glr_plot_classification_001.png\n",
      "https://scikit-learn.org/stable/_images/sphx_glr_plot_ols_001.png\n",
      "https://scikit-learn.org/stable/_images/sphx_glr_plot_ols_ridge_variance_001.png\n",
      "https://scikit-learn.org/stable/_images/sphx_glr_plot_ols_ridge_variance_002.png\n",
      "https://scikit-learn.org/stable/_images/sphx_glr_plot_ols_3d_001.png\n",
      "https://scikit-learn.org/stable/_images/sphx_glr_plot_ols_3d_003.png\n",
      "https://scikit-learn.org/stable/_images/sphx_glr_plot_ols_3d_002.png\n",
      "https://scikit-learn.org/stable/_images/sphx_glr_plot_logistic_001.png\n",
      "https://scikit-learn.org/stable/_images/sphx_glr_plot_iris_logistic_001.png\n",
      "https://scikit-learn.org/stable/_images/sphx_glr_plot_svm_margin_001.png\n",
      "https://scikit-learn.org/stable/_images/sphx_glr_plot_svm_margin_002.png\n",
      "https://scikit-learn.org/stable/_images/sphx_glr_plot_svm_kernels_001.png\n",
      "https://scikit-learn.org/stable/_images/sphx_glr_plot_svm_kernels_002.png\n",
      "https://scikit-learn.org/stable/_images/sphx_glr_plot_svm_kernels_003.png\n",
      "https://scikit-learn.org/stable/_images/sphx_glr_plot_iris_dataset_001.png\n"
     ]
    }
   ],
   "source": [
    "\n",
    "import urllib\n",
    "for i in imgUrls:\n",
    "    url=\"https://scikit-learn.org/stable\"\n",
    "    url=url+i[5:]\n",
    "    print(url)\n",
    "    img = urllib.request.urlopen(url).read()\n",
    "    w=open(\"img.jpg\", \"wb\")\n",
    "    Image(\"img.jpg\")"
   ]
  }
 ],
 "metadata": {
  "kernelspec": {
   "display_name": "Python 3",
   "language": "python",
   "name": "python3"
  },
  "language_info": {
   "codemirror_mode": {
    "name": "ipython",
    "version": 3
   },
   "file_extension": ".py",
   "mimetype": "text/x-python",
   "name": "python",
   "nbconvert_exporter": "python",
   "pygments_lexer": "ipython3",
   "version": "3.5.4"
  }
 },
 "nbformat": 4,
 "nbformat_minor": 4
}
